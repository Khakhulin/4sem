{
 "cells": [
  {
   "cell_type": "markdown",
   "metadata": {},
   "source": [
    "# Expectation-maximization algorithm"
   ]
  },
  {
   "cell_type": "markdown",
   "metadata": {},
   "source": [
    "In this assignment, we will derive and implement formulas for Gaussian Mixture Model — one of the most commonly used methods for performing soft clustering of the data. "
   ]
  },
  {
   "cell_type": "markdown",
   "metadata": {},
   "source": [
    "### Installation\n",
    "\n",
    "We will need ```numpy```, ```scikit-learn```, ```matplotlib``` libraries for this assignment"
   ]
  },
  {
   "cell_type": "code",
   "execution_count": 1,
   "metadata": {},
   "outputs": [],
   "source": [
    "import numpy as np\n",
    "from numpy.linalg import slogdet, det, solve\n",
    "import matplotlib.pyplot as plt\n",
    "import time\n",
    "from sklearn.datasets import load_digits\n",
    "from grader import Grader\n",
    "%matplotlib inline"
   ]
  },
  {
   "cell_type": "markdown",
   "metadata": {},
   "source": [
    "### Grading\n",
    "We will create a grader instance below and use it to collect your answers. Note that these outputs will be stored locally inside grader and will be uploaded to the platform only after running submitting function in the last part of this assignment. If you want to make a partial submission, you can run that cell anytime you want."
   ]
  },
  {
   "cell_type": "code",
   "execution_count": 2,
   "metadata": {},
   "outputs": [],
   "source": [
    "grader = Grader()"
   ]
  },
  {
   "cell_type": "markdown",
   "metadata": {},
   "source": [
    "## Implementing EM for GMM"
   ]
  },
  {
   "cell_type": "markdown",
   "metadata": {},
   "source": [
    "For debugging we will use samples from gaussian mixture model with unknown mean, variance and priors. We also added inital values of parameters for grading purposes."
   ]
  },
  {
   "cell_type": "code",
   "execution_count": 3,
   "metadata": {},
   "outputs": [
    {
     "data": {
      "image/png": "[encoded data removed]",
      "text/plain": [
       "<matplotlib.figure.Figure at 0x10b053cf8>"
      ]
     },
     "metadata": {},
     "output_type": "display_data"
    }
   ],
   "source": [
    "samples = np.load('samples.npz')\n",
    "X = samples['data']\n",
    "pi0 = samples['pi0']\n",
    "mu0 = samples['mu0']\n",
    "sigma0 = samples['sigma0']\n",
    "plt.scatter(X[:, 0], X[:, 1], c='grey', s=30)\n",
    "plt.axis('equal')\n",
    "plt.show()"
   ]
  },
  {
   "cell_type": "markdown",
   "metadata": {},
   "source": [
    "### Reminder"
   ]
  },
  {
   "cell_type": "markdown",
   "metadata": {},
   "source": [
    "Remember, that EM algorithm is a coordinate descent optimization of variational lower bound $\\mathcal{L}(\\theta, q) = \\int q(T) \\log\\frac{P(X, T|\\theta)}{q(T)}dT\\to \\max$.\n",
    "\n",
    "<b>E-step</b>:<br>\n",
    "$\\mathcal{L}(\\theta, q) \\to \\max\\limits_{q} \\Leftrightarrow \\mathcal{KL} [q(T) \\,\\|\\, p(T|X, \\theta)] \\to \\min \\limits_{q\\in Q} \\Rightarrow q(T) = p(T|X, \\theta)$<br>\n",
    "<b>M-step</b>:<br> \n",
    "$\\mathcal{L}(\\theta, q) \\to \\max\\limits_{\\theta} \\Leftrightarrow \\mathbb{E}_{q(T)}\\log p(X,T | \\theta) \\to \\max\\limits_{\\theta}$\n",
    "\n",
    "For GMM, $\\theta$ is a set of parameters that consists of mean vectors $\\mu_c$, covariance matrices $\\Sigma_c$ and priors $\\pi_c$ for each component.\n",
    "\n",
    "Latent variables $T$ are indices of components to which each data point is assigned. $T_i$ (cluster index for object $i$) is a binary vector with only one active bit in position corresponding to the true component. For example, if we have $C=3$ components and object $i$ lies in first component, $T_i = [1, 0, 0]$.\n",
    "\n",
    "The joint distribution can be written as follows: $p(T, X \\mid \\theta) =  \\prod\\limits_{i=1}^N p(T_i, X_i \\mid \\theta) = \\prod\\limits_{i=1}^N \\prod\\limits_{c=1}^C [\\pi_c \\mathcal{N}(X_i \\mid \\mu_c, \\Sigma_c)]^{T_{ic}}$."
   ]
  },
  {
   "cell_type": "markdown",
   "metadata": {},
   "source": [
    "### E-step\n",
    "In this step we need to estimate the posterior distribution over the latent variables with fixed values of parameters: $q(T) = p(T|X, \\theta)$. We will assume that $T_i$ (cluster index for object $i$) is a binary vector with only one '1' in position corresponding to the true component. To do so we need to compute $\\gamma_{ic} = P(T_{ic} = 1 \\mid X, \\theta)$. Note that $\\sum\\limits_{c=1}^C\\gamma_{ic}=1$.\n"
   ]
  },
  {
   "cell_type": "markdown",
   "metadata": {},
   "source": [
    "<b>Important trick 1:</b> It is important to avoid numerical errors. At some point you will have to compute the formula of the following form: $\\frac{e^{x_i}}{\\sum_j e^{x_j}}$. When you compute exponents of large numbers, you get huge numerical errors (some numbers will simply become infinity). You can avoid this by dividing numerator and denominator by $e^{\\max(x)}$: $\\frac{e^{x_i-\\max(x)}}{\\sum_j e^{x_j - \\max(x)}}$. After this transformation maximum value in the denominator will be equal to one. All other terms will contribute smaller values. This trick is called log-sum-exp. So, to compute desired formula you first subtract maximum value from each component in vector $X$ and then compute everything else as before.\n",
    "\n",
    "<b>Important trick 2:</b> You will probably need to compute formula of the form $A^{-1}x$ at some point. You would normally inverse $A$ and then multiply it by $x$. A bit faster and more numerically accurate way to do this is to solve the equation $Ay = x$. Its solution is $y=A^{-1}x$, but the equation $Ay = x$ can be solved by Gaussian elimination procedure. You can use ```np.linalg.solve``` for this.\n",
    "\n",
    "<b>Other usefull functions: </b> <a href=\"https://docs.scipy.org/doc/numpy/reference/generated/numpy.linalg.slogdet.html\">```slogdet```</a> and <a href=\"https://docs.scipy.org/doc/numpy/reference/generated/numpy.linalg.det.html#numpy.linalg.det\">```det```</a>"
   ]
  },
  {
   "cell_type": "markdown",
   "metadata": {},
   "source": [
    "<b>Task 1:</b> Implement E-step for GMM using template below."
   ]
  },
  {
   "cell_type": "code",
   "execution_count": 87,
   "metadata": {},
   "outputs": [],
   "source": [
    "from scipy.stats import norm,multivariate_normal\n",
    "def E_step(X, pi, mu, sigma):\n",
    "    \"\"\"\n",
    "    Performs E-step on GMM model\n",
    "    Each input is numpy array:\n",
    "    X: (N x d), data points\n",
    "    pi: (C), mixture component weights \n",
    "    mu: (C x d), mixture component means\n",
    "    sigma: (C x d x d), mixture component covariance matrices\n",
    "    \n",
    "    Returns:\n",
    "    gamma: (N x C), probabilities of clusters for objects\n",
    "    \"\"\"\n",
    "    N = X.shape[0] # number of objects\n",
    "    C = pi.shape[0] # number of clusters\n",
    "    d = mu.shape[1] # dimension of each object\n",
    "    gamma = np.zeros((N, C)) # distribution q(T)\n",
    "    \n",
    "    x_c = X.T[None, ...] - mu[...,None]\n",
    "    # y = A^-1 * x\n",
    "    y = np.linalg.solve(sigma, x_c)\n",
    "    res = np.dot(x_c.transpose((0, 2, 1)), y)\n",
    "    el_x = np.diagonal(np.diagonal(res, 0, 0, 2), 0, 0, 1)\n",
    "    temp_x = -(el_x/2)\n",
    "    gamma_ik = np.exp(temp_x - np.max(temp_x) )/(np.sqrt((2*np.pi)**(d) *np.linalg.det(sigma)))[..., None] \n",
    "#    print(multivariate_normal.pdf(X[0, :], mu[0, ...], sigma[0, ...]), gamma_ik[0, 0])\n",
    "    gamma_ik *= pi[..., None]\n",
    "    gamma = gamma_ik / np.sum(gamma_ik,axis=0)[None,...]\n",
    "    \n",
    "    return gamma.T"
   ]
  },
  {
   "cell_type": "code",
   "execution_count": 23,
   "metadata": {},
   "outputs": [
    {
     "name": "stdout",
     "output_type": "stream",
     "text": [
      "(1, 3, 2)\n",
      "(1, 3, 2, 2) (280, 3, 2, 1)\n",
      "(2, 3, 280) (280, 3, 2, 1)\n"
     ]
    }
   ],
   "source": [
    "print(mu0[None, :,:].shape)\n",
    "X[:,:, None].shape\n",
    "x0 = X[:,None, :] - mu0[None,:,:,]\n",
    "print(sigma0[None,:,:,:].shape, x0[..., None].shape)\n",
    "y0 = np.linalg.solve(sigma0[None,:,:,:], x0[..., None])\n",
    "print(x0.transpose().shape, y0.shape)\n",
    "c2 = np.tensordot( x0.T, np.squeeze(y0),axes=1)\n",
    "#c1 = np.inner( np.squeeze(y0), x0.transpose())\n"
   ]
  },
  {
   "cell_type": "code",
   "execution_count": 21,
   "metadata": {},
   "outputs": [
    {
     "data": {
      "text/plain": [
       "(1, 2, 3)"
      ]
     },
     "execution_count": 21,
     "metadata": {},
     "output_type": "execute_result"
    }
   ],
   "source": [
    "c1 = np.arange(6).reshape(3,2,1)\n",
    "c1.transpose().shape"
   ]
  },
  {
   "cell_type": "code",
   "execution_count": 88,
   "metadata": {},
   "outputs": [],
   "source": [
    "gamma = E_step(X, pi0, mu0, sigma0)"
   ]
  },
  {
   "cell_type": "code",
   "execution_count": 89,
   "metadata": {},
   "outputs": [
    {
     "name": "stdout",
     "output_type": "stream",
     "text": [
      "Current answer for task Task 1 (E-step) is: 0.5337178741081263\n"
     ]
    }
   ],
   "source": [
    "gamma = E_step(X, pi0, mu0, sigma0)\n",
    "grader.submit_e_step(gamma)"
   ]
  },
  {
   "cell_type": "markdown",
   "metadata": {},
   "source": [
    "### M-step\n",
    "\n",
    "In M-step we need to maximize $\\mathbb{E}_{q(T)}\\log p(X,T | \\theta)$ with respect to $\\theta$. In our model this means that we need to find optimal values of $\\pi$, $\\mu$, $\\Sigma$. To do so, you need to compute the derivatives and \n",
    "set them to zero. You should start by deriving formulas for $\\mu$ as it is the easiest part. Then move on to $\\Sigma$. Here it is crucial to optimize function w.r.t. to $\\Lambda = \\Sigma^{-1}$ and then inverse obtained result. Finaly, to compute $\\pi$, you will need <a href=\"https://www3.nd.edu/~jstiver/FIN360/Constrained%20Optimization.pdf\">Lagrange Multipliers technique</a> to satisfy constraint $\\sum\\limits_{i=1}^{n}\\pi_i = 1$.\n",
    "\n",
    "<br>\n",
    "<b>Important note:</b> You will need to compute derivatives of scalars with respect to matrices. To refresh this technique from previous courses, see <a href=\"https://en.wikipedia.org/wiki/Matrix_calculus\"> wiki article</a> about it . Main formulas of matrix derivatives can be found in <a href=\"http://www2.imm.dtu.dk/pubdb/views/edoc_download.php/3274/pdf/imm3274.pdf\">Chapter 2 of The Matrix Cookbook</a>. For example, there you may find that $\\frac{\\partial}{\\partial A}\\log |A| = A^{-T}$.\n"
   ]
  },
  {
   "cell_type": "markdown",
   "metadata": {},
   "source": [
    "<b>Task 2:</b> Implement M-step for GMM using template below."
   ]
  },
  {
   "cell_type": "code",
   "execution_count": 200,
   "metadata": {},
   "outputs": [],
   "source": [
    "def M_step(X, gamma):\n",
    "    \"\"\"\n",
    "    Performs M-step on GMM model\n",
    "    Each input is numpy array:\n",
    "    X: (N x d), data points\n",
    "    gamma: (N x C), distribution q(T)  \n",
    "    \n",
    "    Returns:\n",
    "    pi: (C)\n",
    "    mu: (C x d)\n",
    "    sigma: (C x d x d)\n",
    "    \"\"\"\n",
    "    N = X.shape[0] # number of objects\n",
    "    C = gamma.shape[1] # number of clusters\n",
    "    d = X.shape[1] # dimension of each object\n",
    "    pi = np.zeros(C)\n",
    "    mu = np.zeros((C, d))\n",
    "    sigma = np.zeros((C, d, d))\n",
    "\n",
    "    pi = np.sum(gamma, axis=0) / N\n",
    "    mu = np.dot(gamma.T, X) / np.sum(gamma, axis=0)[:, None]\n",
    "    x_c = X.T[None, ...] - mu[...,None]\n",
    "    res = np.dot(x_c, x_c.transpose((0, 2, 1)))\n",
    "    sigma_p = np.diagonal(res, 0, 0, 2)\n",
    "    #sigma = np.einsum('ij,bcj->jbc', gamma, sigma_p)  / np.sum(gamma, axis=0)[...,None,None]\n",
    "    for k in range(C):\n",
    "        sigma[k,:] = np.sum([gamma[i,k] * np.outer(X[i] - mu[k], X[i] - mu[k]) for i in range(N)], axis=0) / np.sum(gamma[:,k], axis=0)\n",
    "    return pi, mu, sigma"
   ]
  },
  {
   "cell_type": "code",
   "execution_count": 201,
   "metadata": {},
   "outputs": [
    {
     "name": "stdout",
     "output_type": "stream",
     "text": [
      "Current answer for task Task 2 (M-step: mu) is: 2.8993918820503843\n",
      "Current answer for task Task 2 (M-step: sigma) is: 5.977105216897525\n",
      "Current answer for task Task 2 (M-step: pi) is: 0.5507624459218775\n"
     ]
    }
   ],
   "source": [
    "gamma = E_step(X, pi0, mu0, sigma0)\n",
    "mu1 = (np.dot(gamma.T, X))\n",
    "q = 3* np.ones((4, 2))\n",
    "w = np.ones((3, 2))\n",
    "\n",
    "np.sum((q[:,None, :]- w[None, :, :]))\n",
    "diff_x = np.subtract(X[:,None, :], mu1[None, :, :])\n",
    "\n",
    "pi, mu, sigma = M_step(X, gamma)\n",
    "grader.submit_m_step(pi, mu, sigma)"
   ]
  },
  {
   "cell_type": "code",
   "execution_count": 178,
   "metadata": {},
   "outputs": [
    {
     "data": {
      "text/plain": [
       "(2, 2, 3)"
      ]
     },
     "execution_count": 178,
     "metadata": {},
     "output_type": "execute_result"
    }
   ],
   "source": [
    "sigma.shape"
   ]
  },
  {
   "cell_type": "markdown",
   "metadata": {},
   "source": [
    "### Loss function"
   ]
  },
  {
   "cell_type": "markdown",
   "metadata": {},
   "source": [
    "Finally, we need some function to track convergence. We will use variational lower bound $\\mathcal{L}$ for this purpose. We will stop our EM iterations when $\\mathcal{L}$ will saturate. Usually, you will need only about 10-20 iterations to converge. It is also useful to check that this function never decreases during training. If it does, you have a bug in your code.\n",
    "\n",
    "<b>Task 3:</b> Implement a function that will compute $\\mathcal{L}$ using template below.\n",
    "\n",
    "$$\\mathcal{L} = \\sum_{n=1}^{N} \\sum_{k=1}^{K} \\mathbb{E}[z_{n, k}] (\\log \\pi_k + \\log \\mathcal{N}(x_n | \\mu_k, \\sigma_k)) - \\sum_{n=1}^{N} \\sum_{k=1}^{K} \\mathbb{E}[z_{n, k}] \\log \\mathbb{E}[z_{n, k}]$$"
   ]
  },
  {
   "cell_type": "code",
   "execution_count": 202,
   "metadata": {},
   "outputs": [],
   "source": [
    "from scipy.stats import multivariate_normal\n",
    "\n",
    "def compute_vlb(X, pi, mu, sigma, gamma):\n",
    "    \"\"\"\n",
    "    Each input is numpy array:\n",
    "    X: (N x d), data points\n",
    "    gamma: (N x C), distribution q(T)  \n",
    "    pi: (C)\n",
    "    mu: (C x d)\n",
    "    sigma: (C x d x d)\n",
    "    \n",
    "    Returns value of variational lower bound\n",
    "    \"\"\"\n",
    "    N = X.shape[0] # number of objects\n",
    "    C = gamma.shape[1] # number of clusters\n",
    "    d = X.shape[1] # dimension of each object\n",
    "\n",
    "    loss = 0\n",
    "    for k in range(C):\n",
    "        for n in range(N):\n",
    "            loss += gamma[n,k]*(np.log(pi[k] + 1e-6)+multivariate_normal.logpdf(X[n,:],mean=mu[k], cov=sigma[k])\\\n",
    "                                - np.log(gamma[n,k] + 1e-6))\n",
    "        \n",
    "    return loss"
   ]
  },
  {
   "cell_type": "code",
   "execution_count": 203,
   "metadata": {},
   "outputs": [
    {
     "name": "stdout",
     "output_type": "stream",
     "text": [
      "(3, 2, 2)\n",
      "Current answer for task Task 3 (VLB) is: -1213.9731632371977\n"
     ]
    }
   ],
   "source": [
    "pi, mu, sigma = pi0, mu0, sigma0\n",
    "gamma = E_step(X, pi, mu, sigma)\n",
    "pi, mu, sigma = M_step(X, gamma)\n",
    "print(sigma.shape)\n",
    "loss = compute_vlb(X, pi, mu, sigma, gamma)\n",
    "grader.submit_VLB(loss)"
   ]
  },
  {
   "cell_type": "markdown",
   "metadata": {},
   "source": [
    "### Bringing it all together"
   ]
  },
  {
   "cell_type": "markdown",
   "metadata": {},
   "source": [
    "Now that we have E step, M step and VLB, we can implement training loop. We will start at random values of $\\pi$, $\\mu$ and $\\Sigma$, train until $\\mathcal{L}$ stops changing and return the resulting points. We also know that EM algorithm sometimes stops at local optima. To avoid this we should restart algorithm multiple times from different starting positions. Each training trial should stop either when maximum number of iterations is reached or when relative improvement is smaller than given tolerance ($|\\frac{\\mathcal{L}_i-\\mathcal{L}_{i-1}}{\\mathcal{L}_{i-1}}| \\le \\text{rtol}$).\n",
    "\n",
    "Remember, that values of $\\pi$ that you generate must be non-negative and sum up to 1. Also, $\\Sigma$ matrices must be symmetric and positive semi-definite. If you don't know how to generate those matrices, you can use $\\Sigma=I$ as initialization.\n",
    "\n",
    "You will also sometimes get numerical errors because of component collapsing. The easiest way to deal with this problems is to simply restart the procedure.\n",
    "\n",
    "<b>Task 4:</b> Implement training procedure"
   ]
  },
  {
   "cell_type": "code",
   "execution_count": 191,
   "metadata": {},
   "outputs": [],
   "source": [
    "def train_EM(X, C, rtol=1e-3, max_iter=100, restarts=10):\n",
    "    '''\n",
    "    Starts with random initialization *restarts* times\n",
    "    Runs optimization until saturation with *rtol* reached\n",
    "    or *max_iter* iterations were made.\n",
    "    \n",
    "    X: (N, d), data points\n",
    "    C: int, number of clusters\n",
    "    '''\n",
    "    N = X.shape[0] # number of objects\n",
    "    d = X.shape[1] # dimension of each object\n",
    "    best_loss = None\n",
    "    best_pi = None\n",
    "    best_mu = None\n",
    "    best_sigma = None\n",
    "\n",
    "    for _ in range(restarts):\n",
    "        try:\n",
    "            pi = np.array([1.0/C]*C,dtype=np.float32)\n",
    "            mu = np.random.rand(C, d)\n",
    "            sigma_ = np.random.rand(C, d, d)\n",
    "            sigma = np.array([np.dot(A, A.T) for A in sigma_])\n",
    "            prev_loss = None\n",
    "            for i in range(max_iter):\n",
    "                gamma = E_step(X, pi, mu, sigma)\n",
    "                pi, mu, sigma = M_step(X, gamma)\n",
    "                loss = compute_vlb(X, pi, mu, sigma, gamma)\n",
    "                import math\n",
    "                if  (best_loss is None) or (not np.isnan(loss)  and loss > best_loss):\n",
    "                    best_loss = loss\n",
    "                    best_mu = mu\n",
    "                    best_pi = pi\n",
    "                    best_sigma = sigma\n",
    "                    # If new parametr is better than older\n",
    "                print(\"Iteration {}, loss: {}\".format(i, loss))\n",
    "\n",
    "                if prev_loss is not None:\n",
    "                    diff = np.abs(loss - prev_loss)\n",
    "                    if diff < rtol:\n",
    "                        break\n",
    "                prev_loss = loss\n",
    "        except np.linalg.LinAlgError:\n",
    "            print(\"Singular matrix: components collapsed\")\n",
    "            pass\n",
    "\n",
    "    return best_loss, best_pi, best_mu, best_sigma"
   ]
  },
  {
   "cell_type": "code",
   "execution_count": 204,
   "metadata": {},
   "outputs": [
    {
     "name": "stdout",
     "output_type": "stream",
     "text": [
      "Iteration 0, loss: -1160.4640669770718\n",
      "Iteration 1, loss: -1136.5363405878804\n",
      "Iteration 2, loss: -1133.621764775124\n",
      "Iteration 3, loss: -1131.5713305001748\n",
      "Iteration 4, loss: -1130.0564966637555\n",
      "Iteration 5, loss: -1129.2286750844519\n",
      "Iteration 6, loss: -1128.816452850517\n",
      "Iteration 7, loss: -1128.6004426484042\n",
      "Iteration 8, loss: -1128.4637512749723\n",
      "Iteration 9, loss: -1128.344879464399\n",
      "Iteration 10, loss: -1128.2188590287858\n",
      "Iteration 11, loss: -1128.0696790925404\n",
      "Iteration 12, loss: -1127.8788213098262\n",
      "Iteration 13, loss: -1127.6201544086587\n",
      "Iteration 14, loss: -1127.2592150867554\n",
      "Iteration 15, loss: -1126.7682141936689\n",
      "Iteration 16, loss: -1126.1779332238702\n",
      "Iteration 17, loss: -1125.6280235597424\n",
      "Iteration 18, loss: -1125.2551908600544\n",
      "Iteration 19, loss: -1125.0380634260264\n",
      "Iteration 20, loss: -1124.8960245291105\n",
      "Iteration 21, loss: -1124.7893489132732\n",
      "Iteration 22, loss: -1124.7094390952122\n",
      "Iteration 23, loss: -1124.6573513233332\n",
      "Iteration 24, loss: -1124.6303612837057\n",
      "Iteration 25, loss: -1124.6195044454146\n",
      "Iteration 26, loss: -1124.615983770181\n",
      "Iteration 27, loss: -1124.6150008883424\n",
      "Iteration 0, loss: -1218.7156933978076\n",
      "Iteration 1, loss: -1198.5213109014394\n",
      "Iteration 2, loss: -1181.664521056391\n",
      "Iteration 3, loss: -1171.0333357512602\n",
      "Iteration 4, loss: -1164.7843624098707\n",
      "Iteration 5, loss: -1161.1007835870378\n",
      "Iteration 6, loss: -1159.407577569753\n",
      "Iteration 7, loss: -1158.6819116062836\n",
      "Iteration 8, loss: -1158.3019784633839\n",
      "Iteration 9, loss: -1158.0515275120354\n",
      "Iteration 10, loss: -1157.8677220172124\n",
      "Iteration 11, loss: -1157.7294145722772\n",
      "Iteration 12, loss: -1157.624233560783\n",
      "Iteration 13, loss: -1157.5415369332127\n",
      "Iteration 14, loss: -1157.4721201286607\n",
      "Iteration 15, loss: -1157.4085581942857\n",
      "Iteration 16, loss: -1157.3449058657654\n",
      "Iteration 17, loss: -1157.2759409763214\n",
      "Iteration 18, loss: -1157.1962308666116\n",
      "Iteration 19, loss: -1157.0990778624282\n",
      "Iteration 20, loss: -1156.9752129086887\n",
      "Iteration 21, loss: -1156.8109856307342\n",
      "Iteration 22, loss: -1156.5857138983913\n",
      "Iteration 23, loss: -1156.267832245891\n",
      "Iteration 24, loss: -1155.8096840776755\n",
      "Iteration 25, loss: -1155.1417025795768\n",
      "Iteration 26, loss: -1154.169274602007\n",
      "Iteration 27, loss: -1152.7806821530548\n",
      "Iteration 28, loss: -1150.8787348542771\n",
      "Iteration 29, loss: -1148.4354701681568\n",
      "Iteration 30, loss: -1145.526083191629\n",
      "Iteration 31, loss: -1142.2826427120742\n",
      "Iteration 32, loss: -1138.775340238075\n",
      "Iteration 33, loss: -1134.8842615463386\n",
      "Iteration 34, loss: -1130.2822088603552\n",
      "Iteration 35, loss: -1124.8121321549484\n",
      "Iteration 36, loss: -1118.9903436167035\n",
      "Iteration 37, loss: -1113.5701622002289\n",
      "Iteration 38, loss: -1109.0867565963167\n",
      "Iteration 39, loss: -1105.813821594966\n",
      "Iteration 40, loss: -1103.608477379086\n",
      "Iteration 41, loss: -1102.070039572813\n",
      "Iteration 42, loss: -1100.865343267156\n",
      "Iteration 43, loss: -1099.804141579691\n",
      "Iteration 44, loss: -1098.7754704030901\n",
      "Iteration 45, loss: -1097.6958838184994\n",
      "Iteration 46, loss: -1096.4863143778823\n",
      "Iteration 47, loss: -1095.0619260154144\n",
      "Iteration 48, loss: -1093.305301654559\n",
      "Iteration 49, loss: -1090.9744642976052\n",
      "Iteration 50, loss: -1087.6716495944827\n",
      "Iteration 51, loss: -1083.402794332581\n",
      "Iteration 52, loss: -1078.525725480161\n",
      "Iteration 53, loss: -1071.2925296123806\n",
      "Iteration 54, loss: -1064.7331774113443\n",
      "Iteration 55, loss: -1064.005247109453\n",
      "Iteration 56, loss: -1063.8694508186295\n",
      "Iteration 57, loss: -1063.8284584503529\n",
      "Iteration 58, loss: -1063.816566315977\n",
      "Iteration 59, loss: -1063.8129872294394\n",
      "Iteration 60, loss: -1063.8117877260859\n",
      "Iteration 61, loss: -1063.8113335920368\n",
      "Iteration 0, loss: -1164.135986684952\n",
      "Iteration 1, loss: -1136.4752916585464\n",
      "Iteration 2, loss: -1131.5702322741306\n",
      "Iteration 3, loss: -1129.6190192044749\n",
      "Iteration 4, loss: -1128.5728130314778\n",
      "Iteration 5, loss: -1127.908044109697\n",
      "Iteration 6, loss: -1127.3896445106504\n",
      "Iteration 7, loss: -1126.9059904002881\n",
      "Iteration 8, loss: -1126.4504238752654\n",
      "Iteration 9, loss: -1126.0900058711406\n",
      "Iteration 10, loss: -1125.8409242984676\n",
      "Iteration 11, loss: -1125.642558746051\n",
      "Iteration 12, loss: -1125.430610946237\n",
      "Iteration 13, loss: -1125.15264189078\n",
      "Iteration 14, loss: -1124.7468170068582\n",
      "Iteration 15, loss: -1124.1209449963028\n",
      "Iteration 16, loss: -1123.1416334708981\n",
      "Iteration 17, loss: -1121.6459780673606\n",
      "Iteration 18, loss: -1119.4754727088161\n",
      "Iteration 19, loss: -1116.4763037401542\n",
      "Iteration 20, loss: -1112.3146235660804\n",
      "Iteration 21, loss: -1106.2119537661274\n",
      "Iteration 22, loss: -1099.1308305193168\n",
      "Iteration 23, loss: -1092.9693477454884\n",
      "Iteration 24, loss: -1087.260181722447\n",
      "Iteration 25, loss: -1081.7786036909176\n",
      "Iteration 26, loss: -1076.5866023241458\n",
      "Iteration 27, loss: -1072.0837664449202\n",
      "Iteration 28, loss: -1068.6037010940154\n",
      "Iteration 29, loss: -1066.273536399484\n",
      "Iteration 30, loss: -1064.9720078807322\n",
      "Iteration 31, loss: -1064.341061319885\n",
      "Iteration 32, loss: -1064.0530499773763\n",
      "Iteration 33, loss: -1063.9226072217953\n",
      "Iteration 34, loss: -1063.8629674896933\n",
      "Iteration 35, loss: -1063.8353839868414\n",
      "Iteration 36, loss: -1063.8225036971194\n",
      "Iteration 37, loss: -1063.8164456592265\n",
      "Iteration 38, loss: -1063.8135814984785\n",
      "Iteration 39, loss: -1063.8122223769283\n",
      "Iteration 40, loss: -1063.8115757854641\n",
      "Iteration 0, loss: -1198.056926317771\n",
      "Iteration 1, loss: -1132.5773433891575\n",
      "Iteration 2, loss: -1118.7828330010789\n",
      "Iteration 3, loss: -1107.8590005601252\n",
      "Iteration 4, loss: -1099.7607003423516\n",
      "Iteration 5, loss: -1092.2958001332545\n",
      "Iteration 6, loss: -1083.855270860065\n",
      "Iteration 7, loss: -1076.4845563249064\n",
      "Iteration 8, loss: -1072.2552978217975\n",
      "Iteration 9, loss: -1069.6459033319363\n",
      "Iteration 10, loss: -1067.7031861243343\n",
      "Iteration 11, loss: -1066.1902401834323\n",
      "Iteration 12, loss: -1065.0578026340618\n",
      "Iteration 13, loss: -1064.3326684708147\n",
      "Iteration 14, loss: -1063.9829187839528\n",
      "Iteration 15, loss: -1063.8595730699842\n",
      "Iteration 16, loss: -1063.8243674108771\n",
      "Iteration 17, loss: -1063.8149418700766\n",
      "Iteration 18, loss: -1063.812304323727\n",
      "Iteration 19, loss: -1063.8114840825504\n",
      "Iteration 0, loss: -1242.0053407617188\n",
      "Iteration 1, loss: -1233.18585321437\n",
      "Iteration 2, loss: -1227.6697222288794\n",
      "Iteration 3, loss: -1220.1369687775882\n",
      "Iteration 4, loss: -1206.2438339187684\n",
      "Iteration 5, loss: -1176.6451061057364\n",
      "Iteration 6, loss: -1141.4312425341132\n",
      "Iteration 7, loss: -1126.7228757291969\n",
      "Iteration 8, loss: -1126.1581440722632\n",
      "Iteration 9, loss: -1126.027454731055\n",
      "Iteration 10, loss: -1125.1982987793542\n",
      "Singular matrix: components collapsed\n",
      "Iteration 0, loss: -1231.1446773209123\n",
      "Iteration 1, loss: -1217.293274602108\n",
      "Iteration 2, loss: -1211.0079502534595\n",
      "Iteration 3, loss: -1208.0703054593741\n",
      "Iteration 4, loss: -1207.0151789982262\n",
      "Iteration 5, loss: -1206.5319181925302\n",
      "Iteration 6, loss: -1206.1885217927543\n",
      "Iteration 7, loss: -1205.9075260027014\n",
      "Iteration 8, loss: -1205.6682905899304\n",
      "Iteration 9, loss: -1205.4478423693558\n",
      "Iteration 10, loss: -1205.211016223201\n",
      "Iteration 11, loss: -1204.905737344751\n",
      "Iteration 12, loss: -1204.4418336807187\n",
      "Iteration 13, loss: -1203.6484935536223\n",
      "Iteration 14, loss: -1202.2414540259133\n",
      "Iteration 15, loss: -1199.8744273165294\n",
      "Iteration 16, loss: -1196.0715204445496\n",
      "Iteration 17, loss: -1190.0526243528936\n",
      "Iteration 18, loss: -1182.8629457573015\n",
      "Iteration 19, loss: -1176.3709154731966\n",
      "Iteration 20, loss: -1170.3824150491641\n",
      "Iteration 21, loss: -1164.8817744420987\n",
      "Iteration 22, loss: -1160.3716681921974\n",
      "Iteration 23, loss: -1157.4765464413038\n",
      "Iteration 24, loss: -1156.0951136011506\n",
      "Iteration 25, loss: -1155.5602962219368\n",
      "Iteration 26, loss: -1155.3679081093885\n",
      "Iteration 27, loss: -1155.2983278447061\n",
      "Iteration 28, loss: -1155.272382772437\n",
      "Iteration 29, loss: -1155.262325730123\n",
      "Iteration 30, loss: -1155.2582400229169\n",
      "Iteration 31, loss: -1155.2564800892167\n",
      "Iteration 32, loss: -1155.255665565241\n",
      "Iteration 0, loss: -1201.8367345519232\n",
      "Iteration 1, loss: -1164.7525112085157\n",
      "Iteration 2, loss: -1136.7329134684994\n",
      "Iteration 3, loss: -1132.1081949966003\n",
      "Iteration 4, loss: -1130.7664501789388\n",
      "Iteration 5, loss: -1130.2294241800753\n",
      "Iteration 6, loss: -1129.966644711755\n",
      "Iteration 7, loss: -1129.7964310416994\n",
      "Iteration 8, loss: -1129.6455588864585\n",
      "Iteration 9, loss: -1129.4803894691577\n",
      "Iteration 10, loss: -1129.2765511696023\n",
      "Iteration 11, loss: -1129.00727384733\n",
      "Iteration 12, loss: -1128.6417778658908\n",
      "Iteration 13, loss: -1128.1611127475094\n",
      "Iteration 14, loss: -1127.6048361580947\n",
      "Iteration 15, loss: -1127.103927071383\n",
      "Iteration 16, loss: -1126.7735184838104\n",
      "Iteration 17, loss: -1126.5895856889592\n",
      "Iteration 18, loss: -1126.4761568154101\n",
      "Iteration 19, loss: -1126.3876738728281\n",
      "Iteration 20, loss: -1126.2902315349113\n",
      "Iteration 21, loss: -1126.0465860313238\n",
      "Iteration 22, loss: -1123.781466160316\n",
      "Singular matrix: components collapsed\n",
      "Iteration 0, loss: -1300.8780257955366\n",
      "Iteration 1, loss: -1188.5625785571347\n",
      "Iteration 2, loss: -1169.9627259472697\n",
      "Iteration 3, loss: -1164.9778440585656\n",
      "Iteration 4, loss: -1161.0365156992475\n",
      "Iteration 5, loss: -1156.1680635152493\n",
      "Iteration 6, loss: -1150.7011293812684\n",
      "Iteration 7, loss: -1145.3461094659842\n",
      "Iteration 8, loss: -1139.7612730227213\n",
      "Iteration 9, loss: -1134.7795867963844\n",
      "Iteration 10, loss: -1131.4838834819345\n",
      "Iteration 11, loss: -1129.5685721254804\n",
      "Iteration 12, loss: -1128.17701350472\n",
      "Iteration 13, loss: -1126.578821130383\n",
      "Iteration 14, loss: -1123.8003905478495\n",
      "Iteration 15, loss: -1118.15921573141\n",
      "Iteration 16, loss: -1110.4561143823182\n",
      "Iteration 17, loss: -1103.5226882281297\n",
      "Iteration 18, loss: -1097.4471735295924\n",
      "Iteration 19, loss: -1091.9281017287678\n",
      "Iteration 20, loss: -1086.9683416940084\n",
      "Iteration 21, loss: -1082.372234665205\n",
      "Iteration 22, loss: -1077.8702008796256\n",
      "Iteration 23, loss: -1073.55965807606\n",
      "Iteration 24, loss: -1069.8224076552085\n",
      "Iteration 25, loss: -1067.0675256549184\n",
      "Iteration 26, loss: -1065.4006563684793\n",
      "Iteration 27, loss: -1064.547592186119\n",
      "Iteration 28, loss: -1064.148481420494\n",
      "Iteration 29, loss: -1063.9664809750861\n",
      "Iteration 30, loss: -1063.8832661543374\n",
      "Iteration 31, loss: -1063.8448498819355\n",
      "Iteration 32, loss: -1063.8269481087514\n",
      "Iteration 33, loss: -1063.8185434696252\n",
      "Iteration 34, loss: -1063.8145755932483\n",
      "Iteration 35, loss: -1063.8126947972903\n",
      "Iteration 36, loss: -1063.8118007484145\n",
      "Iteration 0, loss: -1254.4422323004896\n",
      "Iteration 1, loss: -1165.9103053074439\n",
      "Iteration 2, loss: -1156.384471034267\n",
      "Iteration 3, loss: -1150.2679682122339\n",
      "Iteration 4, loss: -1143.690912031685\n",
      "Iteration 5, loss: -1136.6408386209353\n",
      "Iteration 6, loss: -1130.5937375669675\n",
      "Iteration 7, loss: -1126.2609612895324\n",
      "Iteration 8, loss: -1123.6009030588075\n",
      "Iteration 9, loss: -1121.9509564564057\n",
      "Iteration 10, loss: -1120.6174066525882\n",
      "Iteration 11, loss: -1119.294340307575\n",
      "Iteration 12, loss: -1117.916239738499\n",
      "Iteration 13, loss: -1116.4736242118734\n",
      "Iteration 14, loss: -1114.8150554180163\n",
      "Iteration 15, loss: -1112.3026200375552\n",
      "Iteration 16, loss: -1108.2300576721138\n",
      "Iteration 17, loss: -1102.9859272461229\n",
      "Iteration 18, loss: -1098.1866935210226\n",
      "Iteration 19, loss: -1094.5884291011632\n",
      "Iteration 20, loss: -1091.650347818955\n",
      "Iteration 21, loss: -1089.0718507813115\n",
      "Iteration 22, loss: -1086.7285383065655\n",
      "Iteration 23, loss: -1084.5203399882266\n",
      "Iteration 24, loss: -1082.2856293775642\n",
      "Iteration 25, loss: -1079.7480524357095\n",
      "Iteration 26, loss: -1076.3614501531556\n",
      "Iteration 27, loss: -1071.5381707947504\n",
      "Iteration 28, loss: -1067.2003986605125\n",
      "Iteration 29, loss: -1065.4317854313588\n",
      "Iteration 30, loss: -1064.658204475579\n",
      "Iteration 31, loss: -1064.190331023538\n",
      "Iteration 32, loss: -1063.9515028832395\n",
      "Iteration 33, loss: -1063.858089800391\n",
      "Iteration 34, loss: -1063.827162460521\n",
      "Iteration 35, loss: -1063.8170818087356\n",
      "Iteration 36, loss: -1063.8135090071855\n",
      "Iteration 37, loss: -1063.8121010336827\n",
      "Iteration 38, loss: -1063.811497999896\n",
      "Iteration 0, loss: -1304.835638161834\n",
      "Iteration 1, loss: -1188.2603171659355\n",
      "Iteration 2, loss: -1163.308766030065\n",
      "Iteration 3, loss: -1157.107919955273\n",
      "Iteration 4, loss: -1152.7452081501192\n",
      "Iteration 5, loss: -1147.7136058934702\n",
      "Iteration 6, loss: -1142.0468258850537\n",
      "Iteration 7, loss: -1136.6943556047183\n",
      "Iteration 8, loss: -1133.2995378354635\n",
      "Iteration 9, loss: -1131.8548195860096\n",
      "Iteration 10, loss: -1131.338033905396\n",
      "Iteration 11, loss: -1131.161862388236\n",
      "Iteration 12, loss: -1131.0708342338642\n",
      "Iteration 13, loss: -1131.0088670443924\n",
      "Iteration 14, loss: -1130.9623238944255\n",
      "Iteration 15, loss: -1130.9259056297333\n",
      "Iteration 16, loss: -1130.8968376516002\n",
      "Iteration 17, loss: -1130.8734120084266\n",
      "Iteration 18, loss: -1130.854462376078\n",
      "Iteration 19, loss: -1130.8391283024346\n",
      "Iteration 20, loss: -1130.826738419898\n",
      "Iteration 21, loss: -1130.8167498103662\n",
      "Iteration 22, loss: -1130.8087150837075\n",
      "Iteration 23, loss: -1130.8022631357017\n",
      "Iteration 24, loss: -1130.7970865200211\n",
      "Iteration 25, loss: -1130.7929319625173\n",
      "Iteration 26, loss: -1130.7895924240102\n",
      "Iteration 27, loss: -1130.7869000680262\n",
      "Iteration 28, loss: -1130.7847199328937\n",
      "Iteration 29, loss: -1130.7829442815075\n",
      "Iteration 30, loss: -1130.7814876441364\n",
      "Iteration 31, loss: -1130.7802825565318\n",
      "Iteration 32, loss: -1130.7792759672452\n",
      "Iteration 33, loss: -1130.778426262303\n",
      "Current answer for task Task 4 (EM) is: -1063.8113335920368\n"
     ]
    }
   ],
   "source": [
    "best_loss, best_pi, best_mu, best_sigma = train_EM(X, 3)\n",
    "grader.submit_EM(best_loss)"
   ]
  },
  {
   "cell_type": "markdown",
   "metadata": {},
   "source": [
    "If you implemented all the steps correctly, your algorithm should converge in about 20 iterations. Let's plot the clusters to see it. We will assign a cluster label as the most probable cluster index. This can be found using matrix $\\gamma$ computed on last E-step. \n"
   ]
  },
  {
   "cell_type": "code",
   "execution_count": 205,
   "metadata": {},
   "outputs": [
    {
     "data": {
      "image/png": "[encoded data removed]",
      "text/plain": [
       "<matplotlib.figure.Figure at 0x10b6d5be0>"
      ]
     },
     "metadata": {},
     "output_type": "display_data"
    }
   ],
   "source": [
    "gamma = E_step(X, best_pi, best_mu, best_sigma)\n",
    "labels = gamma.argmax(1)\n",
    "plt.scatter(X[:, 0], X[:, 1], c=labels, s=30)\n",
    "plt.axis('equal')\n",
    "plt.show()"
   ]
  },
  {
   "cell_type": "markdown",
   "metadata": {},
   "source": [
    "### Authorization & Submission\n",
    "To submit assignment parts to Cousera platform, please, enter your e-mail and your token into variables below. You can generate the token on this programming assignment page. <b>Note:</b> Token expires 30 minutes after generation."
   ]
  },
  {
   "cell_type": "code",
   "execution_count": 208,
   "metadata": {},
   "outputs": [
    {
     "name": "stdout",
     "output_type": "stream",
     "text": [
      "You want to submit these numbers:\n",
      "Task Task 1 (E-step): 0.5337178741081263\n",
      "Task Task 2 (M-step: mu): 2.8993918820503843\n",
      "Task Task 2 (M-step: sigma): 5.977105216897525\n",
      "Task Task 2 (M-step: pi): 0.5507624459218775\n",
      "Task Task 3 (VLB): -1213.9731632371977\n",
      "Task Task 4 (EM): -1063.8113335920368\n"
     ]
    }
   ],
   "source": [
    "STUDENT_EMAIL = \"\"\n",
    "STUDENT_TOKEN = \"\"\n",
    "grader.status()"
   ]
  },
  {
   "cell_type": "markdown",
   "metadata": {},
   "source": [
    "If you want to submit these answers, run cell below"
   ]
  },
  {
   "cell_type": "code",
   "execution_count": 209,
   "metadata": {},
   "outputs": [
    {
     "name": "stdout",
     "output_type": "stream",
     "text": [
      "Submitted to Coursera platform. See results on assignment page!\n"
     ]
    }
   ],
   "source": [
    "grader.submit(STUDENT_EMAIL, STUDENT_TOKEN)"
   ]
  }
 ],
 "metadata": {
  "kernelspec": {
   "display_name": "Python 3",
   "language": "python",
   "name": "python3"
  },
  "language_info": {
   "codemirror_mode": {
    "name": "ipython",
    "version": 3
   },
   "file_extension": ".py",
   "mimetype": "text/x-python",
   "name": "python",
   "nbconvert_exporter": "python",
   "pygments_lexer": "ipython3",
   "version": "3.6.3"
  },
  "latex_envs": {
   "bibliofile": "biblio.bib",
   "cite_by": "apalike",
   "current_citInitial": 1,
   "eqLabelWithNumbers": true,
   "eqNumInitial": 0
  }
 },
 "nbformat": 4,
 "nbformat_minor": 2
}
